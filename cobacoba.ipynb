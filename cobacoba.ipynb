{
 "cells": [
  {
   "cell_type": "code",
   "execution_count": 1,
   "metadata": {},
   "outputs": [],
   "source": [
    "#Kegiatan 1\n",
    "\n",
    "# TODO 0 : Import library lain yang dibutuhkan\n",
    "from PIL import Image, ImageDraw, ImageFont\n",
    "\n",
    "# TODO 1: Lakukan load image pada variabel berikut\n",
    "# hint: kalian bisa gunakan fungsi open()\n",
    "gambarku = Image.open('bukti-ikut-yt.jpeg')\n",
    "# TODO 2: Ubah gambar menjadi hitam-putih\n",
    "# hint: kalian bisa gunakan fungsi convert()\n",
    "gambarBW = gambarku.convert(\"L\")\n",
    "# TODO 3: Tambahkan text sesuai kriteria.\n",
    "draw = ImageDraw.Draw(gambarBW)\n",
    "font = ImageFont.truetype('font/ARIAL.TTF', 24)\n",
    "text = \"Ardhika Yoga Pratama 202110370311458\"\n",
    "text_bbox = draw.textbbox((0, 0), text, font=font)\n",
    "text_width, text_height = text_bbox[2] - text_bbox[0], text_bbox[3] - text_bbox[1]\n",
    "text_x = (gambarku.width - text_width) // 2\n",
    "text_y = 20\n",
    "draw.text((text_x,text_y),text,font=font,fill=255)\n",
    "# TODO 4: Simpan gambar hasil edit menggunakan fungsi save()\n",
    "gambarBW.save('disimpan.jpg')\n",
    "# TODO 5: Tampilkan hasil akhir gambar\n",
    "gambarBW.show()\n"
   ]
  },
  {
   "cell_type": "code",
   "execution_count": 2,
   "metadata": {},
   "outputs": [],
   "source": [
    "#Kegiatan 2\n",
    "\n",
    "#Lengkapi kode dibawah ini untuk menjawab soal diatas ya\n",
    "# TODO 0 : Import beberapa library lain yang dibutuhkan\n",
    "from PIL import Image, ImageFilter\n",
    "# TODO 1 : Buka gambar latar belakang (background) dan gambar yang ingin disisipkan (overlay)\n",
    "background_image = Image.open(\"env.jpeg\") # ubah bg.jpg ke path gambar yang anda ingin gunakan\n",
    "overlay_image = Image.open(\"bukti-ikut-yt.jpeg\") # ubah image.jpg ke path gambar yang anda ingin gunakan\n",
    "# TODO 2 : Konversi overlay image ke mode RGB (menghilangkan alpha channel)\n",
    "overlay_image = overlay_image.convert('RGB')\n",
    "# TODO 3 : (optional) Perkecil ukuran gambar overlay menggunakan method resize()\n",
    "# Tentukan/Hitung koordinat tengah untuk menempatkan overlay\n",
    "new_size = (overlay_image.width // 2, overlay_image.height // 2)\n",
    "overlay_image = overlay_image.resize(new_size)\n",
    "\n",
    "x_center = (background_image.width - overlay_image.width) // 2\n",
    "y_center = (background_image.height - overlay_image.height) // 2\n",
    "# TODO 4 : Sisipkan gambar overlay ke dalam gambar background menggunakan method paste()\n",
    "background_image.paste(overlay_image, (x_center, y_center))\n",
    "# TODO 5 : Simpan gambar hasil edit\n",
    "background_image.save(\"disimpan2.jpg\")\n",
    "# TODO 6 : Tampilkan\n",
    "background_image.show()"
   ]
  },
  {
   "cell_type": "code",
   "execution_count": 3,
   "metadata": {},
   "outputs": [],
   "source": [
    "#Kegiatan 3\n",
    "\n",
    "from PIL import Image, ImageEnhance\n",
    "\n",
    "# TODO 1: Buka gambar dengan pillow\n",
    "image = Image.open('disimpan.jpg') # ubah nyoba.jpg ke gambar yang anda ingin gunakan\n",
    "# TODO 2: Ubah tingkat kecerahan (brightness) dan kontras (contrast)\n",
    "enhancer = ImageEnhance.Brightness(image)\n",
    "brightened_image = enhancer.enhance(1.5)\n",
    "\n",
    "enhancer = ImageEnhance.Contrast(brightened_image)\n",
    "final_image = enhancer.enhance(1.2)\n",
    "\n",
    "# TODO 3: Simpan gambar hasil edit\n",
    "final_image.save('final_result.jpg')\n",
    "# TODO 4: Tampilkan\n",
    "final_image.show()"
   ]
  }
 ],
 "metadata": {
  "kernelspec": {
   "display_name": "Python 3",
   "language": "python",
   "name": "python3"
  },
  "language_info": {
   "codemirror_mode": {
    "name": "ipython",
    "version": 3
   },
   "file_extension": ".py",
   "mimetype": "text/x-python",
   "name": "python",
   "nbconvert_exporter": "python",
   "pygments_lexer": "ipython3",
   "version": "3.11.1"
  }
 },
 "nbformat": 4,
 "nbformat_minor": 2
}
